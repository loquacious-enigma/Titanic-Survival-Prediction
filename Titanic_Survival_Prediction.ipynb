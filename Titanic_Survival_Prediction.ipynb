{
 "cells": [
  {
   "cell_type": "markdown",
   "id": "d86dae68-dc78-4f62-89e1-a90cd600a423",
   "metadata": {},
   "source": [
    "# Titanic Survival Prediction - Random Forest Pipeline with Hyperparameter Tuning"
   ]
  },
  {
   "cell_type": "markdown",
   "id": "ad7fe9d5",
   "metadata": {},
   "source": [
    "## 1. Import Libraries"
   ]
  },
  {
   "cell_type": "code",
   "execution_count": 10,
   "id": "cf3f91ee",
   "metadata": {},
   "outputs": [],
   "source": [
    "import pandas as pd\n",
    "import numpy as np\n",
    "import matplotlib.pyplot as plt\n",
    "\n",
    "from sklearn.base import BaseEstimator, TransformerMixin\n",
    "from sklearn.pipeline import Pipeline\n",
    "from sklearn.compose import ColumnTransformer\n",
    "from sklearn.impute import SimpleImputer\n",
    "from sklearn.preprocessing import StandardScaler, OneHotEncoder\n",
    "from sklearn.ensemble import RandomForestClassifier\n",
    "from sklearn.model_selection import GridSearchCV, StratifiedKFold, train_test_split, cross_val_score\n",
    "from sklearn.inspection import permutation_importance"
   ]
  },
  {
   "cell_type": "markdown",
   "id": "b5cd8be9",
   "metadata": {},
   "source": [
    "## 2. Load and Preprocess Data"
   ]
  },
  {
   "cell_type": "code",
   "execution_count": 11,
   "id": "acfb2744",
   "metadata": {},
   "outputs": [],
   "source": [
    "def load_data():\n",
    "    return pd.read_csv('data/train.csv')\n",
    "\n",
    "df = load_data()\n",
    "df.drop(columns=[\"Cabin\", \"Ticket\", \"PassengerId\"], inplace=True)\n",
    "\n",
    "X = df.drop('Survived', axis=1)\n",
    "y = df['Survived']\n"
   ]
  },
  {
   "cell_type": "markdown",
   "id": "cf0a74c1",
   "metadata": {},
   "source": [
    "## 3. Feature Engineering Transformers"
   ]
  },
  {
   "cell_type": "code",
   "execution_count": 12,
   "id": "ff9aa536",
   "metadata": {},
   "outputs": [],
   "source": [
    "class TitleExtractor(BaseEstimator, TransformerMixin):\n",
    "    def fit(self, X, y=None):\n",
    "        return self\n",
    "    \n",
    "    def transform(self, X):\n",
    "        X = X.copy()\n",
    "        X['Title'] = X['Name'].str.extract(' ([A-Za-z]+)\\.', expand=False)\n",
    "        X['Title'] = X['Title'].replace(['Lady', 'Countess','Capt', 'Col', \n",
    "                                         'Don', 'Dr', 'Major', 'Rev', 'Sir', \n",
    "                                         'Jonkheer', 'Dona'], 'Rare')\n",
    "        X['Title'] = X['Title'].replace(['Mlle', 'Ms'], 'Miss')\n",
    "        X['Title'] = X['Title'].replace('Mme', 'Mrs')\n",
    "        return X"
   ]
  },
  {
   "cell_type": "code",
   "execution_count": 13,
   "id": "fe39a2d8",
   "metadata": {},
   "outputs": [],
   "source": [
    "class FamilyFeatures(BaseEstimator, TransformerMixin):\n",
    "    def fit(self, X, y=None):\n",
    "        return self\n",
    "    \n",
    "    def transform(self, X):\n",
    "        X = X.copy()\n",
    "        X['FamilySize'] = X['SibSp'] + X['Parch'] + 1\n",
    "        X['IsAlone'] = (X['FamilySize'] == 1).astype(int)\n",
    "        X['Solo'] = X['IsAlone'] * X['Fare']\n",
    "        X['femClass'] = X['Sex'].map({'male': 0, 'female': 1}) * X['Pclass']\n",
    "        return X"
   ]
  },
  {
   "cell_type": "markdown",
   "id": "6ab93399",
   "metadata": {},
   "source": [
    "## 4. Define Column Types"
   ]
  },
  {
   "cell_type": "code",
   "execution_count": 14,
   "id": "c48f1614",
   "metadata": {},
   "outputs": [],
   "source": [
    "# ====== Define Column Types ======\n",
    "num_features = ['Age', 'Fare', 'FamilySize', 'Solo', 'femClass']\n",
    "cat_features = ['Sex', 'Embarked', 'Title', 'IsAlone']"
   ]
  },
  {
   "cell_type": "markdown",
   "id": "3532ec10",
   "metadata": {},
   "source": [
    "##  5. Preprocessing Pipelines"
   ]
  },
  {
   "cell_type": "code",
   "execution_count": 15,
   "id": "d1850f94",
   "metadata": {},
   "outputs": [],
   "source": [
    "num_pipeline = Pipeline([\n",
    "    ('imputer', SimpleImputer(strategy=\"mean\")),\n",
    "    ('scaler', StandardScaler())\n",
    "])\n",
    "\n",
    "cat_pipeline = Pipeline([\n",
    "    ('imputer', SimpleImputer(strategy=\"most_frequent\")),\n",
    "    ('onehot', OneHotEncoder(handle_unknown='ignore', sparse=False))\n",
    "])\n",
    "\n",
    "preprocessor = ColumnTransformer([\n",
    "    ('num', num_pipeline, num_features),\n",
    "    ('cat', cat_pipeline, cat_features)\n",
    "])"
   ]
  },
  {
   "cell_type": "markdown",
   "id": "4922fc16",
   "metadata": {},
   "source": [
    "## 6. Full Pipeline"
   ]
  },
  {
   "cell_type": "code",
   "execution_count": 16,
   "id": "19e7bd2f",
   "metadata": {},
   "outputs": [],
   "source": [
    "base_pipeline = Pipeline([\n",
    "    ('title', TitleExtractor()),\n",
    "    ('family', FamilyFeatures()),\n",
    "    ('preprocessor', preprocessor),\n",
    "    ('clf', RandomForestClassifier(random_state=42))\n",
    "])"
   ]
  },
  {
   "cell_type": "markdown",
   "id": "5c1a178e",
   "metadata": {},
   "source": [
    "##  7. GridSearchCV"
   ]
  },
  {
   "cell_type": "code",
   "execution_count": 17,
   "id": "b6dd0149",
   "metadata": {},
   "outputs": [
    {
     "name": "stdout",
     "output_type": "stream",
     "text": [
      "\n",
      "Best Parameters: {'clf__class_weight': 'balanced', 'clf__max_depth': 5, 'clf__max_features': 'sqrt', 'clf__min_samples_split': 5, 'clf__n_estimators': 100}\n",
      "\n",
      "Best CV Accuracy: 0.8293892411022534\n"
     ]
    }
   ],
   "source": [
    "param_grid = {\n",
    "    'clf__n_estimators': [100, 200],\n",
    "    'clf__max_depth': [5, 10, None],\n",
    "    'clf__min_samples_split': [2, 5],\n",
    "    'clf__max_features': ['sqrt'],\n",
    "    'clf__class_weight': ['balanced']\n",
    "}\n",
    "\n",
    "grid_search = GridSearchCV(base_pipeline, param_grid, cv=5, scoring='accuracy', n_jobs=-1)\n",
    "grid_search.fit(X, y)\n",
    "\n",
    "print(\"\\nBest Parameters:\", grid_search.best_params_)\n",
    "print(\"\\nBest CV Accuracy:\", grid_search.best_score_)\n"
   ]
  },
  {
   "cell_type": "markdown",
   "id": "27b273ee",
   "metadata": {},
   "source": [
    "## 8. Final Evaluation"
   ]
  },
  {
   "cell_type": "code",
   "execution_count": 18,
   "id": "526721f8",
   "metadata": {},
   "outputs": [
    {
     "name": "stdout",
     "output_type": "stream",
     "text": [
      "Cross-validation scores: [0.84444444 0.80898876 0.80898876 0.86516854 0.80898876 0.86516854\n",
      " 0.85393258 0.80898876 0.85393258 0.85393258]\n",
      "Mean accuracy: 0.8372534332084894\n"
     ]
    }
   ],
   "source": [
    "cv = StratifiedKFold(n_splits=10, shuffle=True, random_state=42)\n",
    "cv_scores = cross_val_score(grid_search.best_estimator_, X, y, cv=cv, scoring='accuracy')\n",
    "\n",
    "print(\"Cross-validation scores:\", cv_scores)\n",
    "print(\"Mean accuracy:\", np.mean(cv_scores))"
   ]
  },
  {
   "cell_type": "markdown",
   "id": "55082f67",
   "metadata": {},
   "source": [
    "##  9. Feature Importances"
   ]
  },
  {
   "cell_type": "code",
   "execution_count": 21,
   "id": "9a54d2ba",
   "metadata": {},
   "outputs": [
    {
     "data": {
      "image/png": "[encoded data removed]",
      "text/plain": [
       "<Figure size 720x432 with 1 Axes>"
      ]
     },
     "metadata": {
      "needs_background": "light"
     },
     "output_type": "display_data"
    }
   ],
   "source": [
    "final_model = grid_search.best_estimator_\n",
    "final_model.fit(X, y)\n",
    "\n",
    "feature_names = list(final_model.named_steps['preprocessor'].transformers_[0][2]) + \\\n",
    "                list(final_model.named_steps['preprocessor'].transformers_[1][1] \\\n",
    "                     .named_steps['onehot'].get_feature_names(cat_features))\n",
    "\n",
    "importances = final_model.named_steps['clf'].feature_importances_\n",
    "indices = np.argsort(importances)[::-1]\n",
    "\n",
    "plt.figure(figsize=(10,6))\n",
    "plt.title(\"Feature Importances\")\n",
    "plt.bar(range(len(feature_names)), importances[indices], align=\"center\")\n",
    "plt.xticks(range(len(feature_names)), [feature_names[i] for i in indices], rotation=45)\n",
    "plt.tight_layout()\n",
    "plt.show()"
   ]
  },
  {
   "cell_type": "markdown",
   "id": "ce22106d",
   "metadata": {},
   "source": [
    "## 10. Permutation Importance"
   ]
  },
  {
   "cell_type": "code",
   "execution_count": 22,
   "id": "f800a9b3",
   "metadata": {},
   "outputs": [
    {
     "data": {
      "image/png": "[encoded data removed]",
      "text/plain": [
       "<Figure size 720x432 with 1 Axes>"
      ]
     },
     "metadata": {
      "needs_background": "light"
     },
     "output_type": "display_data"
    }
   ],
   "source": [
    "X_transformed = final_model[:-1].transform(X)\n",
    "result = permutation_importance(final_model.named_steps['clf'], X_transformed, y, n_repeats=10, random_state=42)\n",
    "sorted_idx = result.importances_mean.argsort()[::-1]\n",
    "\n",
    "plt.figure(figsize=(10,6))\n",
    "plt.barh(np.array(feature_names)[sorted_idx], result.importances_mean[sorted_idx])\n",
    "plt.title(\"Permutation Importance\")\n",
    "plt.tight_layout()\n",
    "plt.show()"
   ]
  }
 ],
 "metadata": {
  "kernelspec": {
   "display_name": "Python 3 (ipykernel)",
   "language": "python",
   "name": "python3"
  },
  "language_info": {
   "codemirror_mode": {
    "name": "ipython",
    "version": 3
   },
   "file_extension": ".py",
   "mimetype": "text/x-python",
   "name": "python",
   "nbconvert_exporter": "python",
   "pygments_lexer": "ipython3",
   "version": "3.9.7"
  }
 },
 "nbformat": 4,
 "nbformat_minor": 5
}
